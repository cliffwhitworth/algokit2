{
 "cells": [
  {
   "cell_type": "code",
   "execution_count": 1,
   "metadata": {},
   "outputs": [
    {
     "name": "stdout",
     "output_type": "stream",
     "text": [
      "Original Tree: Node ID: 0x7f22e8cf9748\n",
      "428591637\n",
      "Mirrored Tree: Node ID: 0x7f22e8cf9748\n",
      "736195824\n",
      "Levels: 4\n",
      "Leaves: 9\n",
      "End of Nodes\n"
     ]
    }
   ],
   "source": [
    "class Node:\n",
    "    LEAVES = 0\n",
    "    def __init__(self, value, left=None, right=None):\n",
    "        self.value = value\n",
    "        self.left = left\n",
    "        self.right = right\n",
    "        self.increment_leaves()\n",
    "        \n",
    "    def print_node(self, node): #inorder\n",
    "        if node:            \n",
    "            self.print_node(node.left)\n",
    "            print(node.value, end='')\n",
    "            self.print_node(node.right)\n",
    "            \n",
    "    @classmethod\n",
    "    def increment_leaves(cls):\n",
    "        cls.LEAVES += 1\n",
    "    \n",
    "    @classmethod\n",
    "    def get_levels(cls):\n",
    "        return cls.LEAVES // 2\n",
    "    \n",
    "    @staticmethod\n",
    "    def end_nodes():\n",
    "        return 'End of Nodes'\n",
    "\n",
    "def mirror(node):\n",
    "    if node:  \n",
    "        node.right, node.left = node.left, node.right\n",
    "        try:\n",
    "            mirror(node.left)\n",
    "            mirror(node.right)\n",
    "        except:\n",
    "            pass\n",
    "        \n",
    "    return node\n",
    "        \n",
    "\n",
    "node = Node(1)\n",
    "node.left = Node(2)\n",
    "node.right = Node(3)\n",
    "node.left.left = Node(4)\n",
    "node.left.right = Node(5)\n",
    "node.right.left = Node(6)\n",
    "node.right.right = Node(7)\n",
    "node.left.right.left = Node(8)\n",
    "node.left.right.right = Node(9)\n",
    "print(f'Original Tree: Node ID: {hex(id(node))}')\n",
    "node.print_node(node)\n",
    "node = mirror(node)\n",
    "print()\n",
    "print(f'Mirrored Tree: Node ID: {hex(id(node))}')\n",
    "node.print_node(node)\n",
    "print()\n",
    "print(f'Levels: {node.get_levels()}')\n",
    "print(f'Leaves: {node.LEAVES}')\n",
    "print(f'{node.end_nodes()}')\n",
    "\n",
    "# Unit Test\n",
    "test_node = Node(3)\n",
    "assert test_node.value == 3, 'Should be 3'"
   ]
  },
  {
   "cell_type": "markdown",
   "metadata": {},
   "source": [
    "<pre>\n",
    "                1\n",
    "               / \\\n",
    "              /   \\\n",
    "             /     \\\n",
    "            2       3\n",
    "           / \\     / \\\n",
    "          /   \\   /   \\\n",
    "         4     5 6     7 \n",
    "              / \\\n",
    "             8   9\n",
    " </pre>"
   ]
  }
 ],
 "metadata": {
  "kernelspec": {
   "display_name": "Python 3",
   "language": "python",
   "name": "python3"
  },
  "language_info": {
   "codemirror_mode": {
    "name": "ipython",
    "version": 3
   },
   "file_extension": ".py",
   "mimetype": "text/x-python",
   "name": "python",
   "nbconvert_exporter": "python",
   "pygments_lexer": "ipython3",
   "version": "3.6.3"
  }
 },
 "nbformat": 4,
 "nbformat_minor": 2
}
