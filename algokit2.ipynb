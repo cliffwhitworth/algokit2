{
 "cells": [
  {
   "cell_type": "code",
   "execution_count": 35,
   "metadata": {},
   "outputs": [
    {
     "name": "stdout",
     "output_type": "stream",
     "text": [
      "[[1, 2, 3], [4, 5, 6], [7, 8, 9], [8, 7, 6]]\n",
      "[[1, 4, 7, 8], [2, 5, 8, 7], [3, 6, 9, 6]]\n",
      "[8, 7, 6]\n",
      "[3, 6, 9, 6]\n",
      "[{'row': 1, 'column': 3}]\n"
     ]
    }
   ],
   "source": [
    "# Return transpose, rows, and columns of a matrix\n",
    "class Matrix:\n",
    "    def __init__(self, m):\n",
    "        self.matrix = [[int(i) for i in row.split()] for row in m.split('\\n')]\n",
    "        \n",
    "    def __iter__(self):\n",
    "        yield from self.matrix\n",
    "        \n",
    "    def show(self):\n",
    "        return self.matrix\n",
    "        \n",
    "    def transpose(self):\n",
    "        return [[row[i] for row in self.matrix] for i in range(len(self.matrix[0]))]\n",
    "        \n",
    "    def row(self, index):\n",
    "        return self.matrix[index-1]\n",
    "    \n",
    "    def col(self, index):\n",
    "        return self.transpose()[index-1];\n",
    "    \n",
    "    def saddle_points(self):\n",
    "        points = []\n",
    "        for i, row in enumerate(self.matrix):\n",
    "            for j, col in enumerate(zip(*self.matrix)):          \n",
    "                if max(row) <= min(col):\n",
    "                    points.append({'row': i+1, 'column': j+1})\n",
    "\n",
    "        return points\n",
    "    \n",
    "matrix = Matrix('1 2 3\\n4 5 6\\n7 8 9\\n8 7 6')\n",
    "print(matrix.show())\n",
    "print(matrix.transpose())\n",
    "print(matrix.row(4))\n",
    "print(matrix.col(3))\n",
    "print(matrix.saddle_points())"
   ]
  },
  {
   "cell_type": "code",
   "execution_count": 28,
   "metadata": {},
   "outputs": [
    {
     "name": "stdout",
     "output_type": "stream",
     "text": [
      "['False', 'None', 'True', 'and', 'as', 'assert', 'break', 'class', 'continue', 'def', 'del', 'elif', 'else', 'except', 'finally', 'for', 'from', 'global', 'if', 'import', 'in', 'is', 'lambda', 'nonlocal', 'not', 'or', 'pass', 'raise', 'return', 'try', 'while', 'with', 'yield']\n"
     ]
    }
   ],
   "source": [
    "import keyword\n",
    "print(keyword.kwlist)"
   ]
  }
 ],
 "metadata": {
  "kernelspec": {
   "display_name": "Python 3",
   "language": "python",
   "name": "python3"
  },
  "language_info": {
   "codemirror_mode": {
    "name": "ipython",
    "version": 3
   },
   "file_extension": ".py",
   "mimetype": "text/x-python",
   "name": "python",
   "nbconvert_exporter": "python",
   "pygments_lexer": "ipython3",
   "version": "3.6.7"
  }
 },
 "nbformat": 4,
 "nbformat_minor": 4
}
